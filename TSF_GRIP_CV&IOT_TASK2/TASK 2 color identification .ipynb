{
 "cells": [
  {
   "cell_type": "markdown",
   "id": "b98c5b14",
   "metadata": {},
   "source": [
    "# The Sparks Foundation\n",
    "#### Computer Vision and Internet of Things internship\n",
    "#### Task 2 : Color Identification.\n",
    "\n",
    "\n",
    "##### Name: Anant Agarwal\n",
    "##### october 2021 intern\n",
    "##### College: Institute of Engineering and Technology , Lucknow\n"
   ]
  },
  {
   "cell_type": "code",
   "execution_count": 1,
   "id": "ac44ac7a",
   "metadata": {},
   "outputs": [],
   "source": [
    "import pandas as pd\n",
    "import cv2"
   ]
  },
  {
   "cell_type": "code",
   "execution_count": 2,
   "id": "5e23bcb7",
   "metadata": {},
   "outputs": [],
   "source": [
    "colors = pd.read_csv('colors.csv')\n",
    "image = cv2.imread('aa.jpg')"
   ]
  },
  {
   "cell_type": "code",
   "execution_count": 3,
   "id": "6a88a71e",
   "metadata": {},
   "outputs": [],
   "source": [
    "clicked = False\n",
    "r = g = b = xpos = ypos = 0"
   ]
  },
  {
   "cell_type": "code",
   "execution_count": 4,
   "id": "58ab3781",
   "metadata": {},
   "outputs": [],
   "source": [
    "def spot_color(event, x, y, flags, params):\n",
    "    if event == cv2.EVENT_MOUSEMOVE:\n",
    "        global clicked, r, g, b, xpos, ypos\n",
    "        clicked = True\n",
    "        xpos = x\n",
    "        ypos = y\n",
    "        b, g, r = image[y, x]\n",
    "        b = int(b)\n",
    "        g = int(g)\n",
    "        r = int(r)"
   ]
  },
  {
   "cell_type": "code",
   "execution_count": 5,
   "id": "be310edb",
   "metadata": {},
   "outputs": [],
   "source": [
    "def color_names(R, G, B):\n",
    "    minimum = 1000\n",
    "    for i in range(len(colors)):\n",
    "        difference = abs(R - int(colors.loc[i, 'R']))\n",
    "        + abs(G - int(colors.loc[i, 'G']))\n",
    "        + abs(B - int(colors.loc[i, 'B']))\n",
    "        if difference <= minimum:\n",
    "            minimum = difference\n",
    "            colorname = colors.loc[i, 'ColorName']        \n",
    "    return colorname"
   ]
  },
  {
   "cell_type": "code",
   "execution_count": 6,
   "id": "11981ab1",
   "metadata": {},
   "outputs": [],
   "source": [
    "cv2.namedWindow('Color Identification')\n",
    "cv2.setMouseCallback('Color Identification', spot_color)"
   ]
  },
  {
   "cell_type": "code",
   "execution_count": 7,
   "id": "dd24a929",
   "metadata": {},
   "outputs": [],
   "source": [
    "while True:\n",
    "    cv2.imshow('Color Identification', image)\n",
    "    if clicked:\n",
    "        cv2.rectangle(image, (0,20), (800,60), (b,g,r), -1)\n",
    "        text = color_names(r,g,b)+ ' - Red:' + str(r) + ' Green:'+ str(g) + ' Blue:' + str(b)\n",
    "        cv2.putText(image, text, (50,50), 2, 0.9, (255,255,255), 2, cv2.LINE_AA)\n",
    "        if r + g + b >= 600:\n",
    "            cv2.putText(image, text, (50,50), 2, 0.9, (0,0,0), 2, cv2.LINE_AA)\n",
    "    if cv2.waitKey(10) & 0xFF == 27:\n",
    "        break\n",
    "\n",
    "cv2.destroyAllWindows()\n"
   ]
  },
  {
   "cell_type": "code",
   "execution_count": null,
   "id": "dc149529",
   "metadata": {},
   "outputs": [],
   "source": []
  }
 ],
 "metadata": {
  "kernelspec": {
   "display_name": "Python 3",
   "language": "python",
   "name": "python3"
  },
  "language_info": {
   "codemirror_mode": {
    "name": "ipython",
    "version": 3
   },
   "file_extension": ".py",
   "mimetype": "text/x-python",
   "name": "python",
   "nbconvert_exporter": "python",
   "pygments_lexer": "ipython3",
   "version": "3.8.8"
  }
 },
 "nbformat": 4,
 "nbformat_minor": 5
}
